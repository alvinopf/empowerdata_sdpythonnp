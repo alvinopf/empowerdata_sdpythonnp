{
 "cells": [
  {
   "cell_type": "markdown",
   "metadata": {},
   "source": [
    "# Projeto 2\n",
    "\n",
    "Passo a passo da resolução do problema:\n",
    "\n",
    "- Busar as informações da ação automaticamente\n",
    "- Criar as análises solicitadas pelo gestor\n",
    "    - cotação máxima\n",
    "    - cotação mínima\n",
    "    - valor médio\n",
    "- Enviar email automaticamente para o gestor"
   ]
  },
  {
   "cell_type": "markdown",
   "metadata": {},
   "source": [
    "### Busar as informações da ação automaticamente\n",
    "\n",
    "Bibliotecas necessárias: 'yfinance' e 'matplotlib'"
   ]
  },
  {
   "cell_type": "code",
   "execution_count": 1,
   "metadata": {},
   "outputs": [
    {
     "name": "stdout",
     "output_type": "stream",
     "text": [
      "Collecting yfinance\n",
      "  Downloading yfinance-0.2.40-py2.py3-none-any.whl.metadata (11 kB)\n",
      "Collecting pandas>=1.3.0 (from yfinance)\n",
      "  Downloading pandas-2.2.2-cp312-cp312-win_amd64.whl.metadata (19 kB)\n",
      "Collecting numpy>=1.16.5 (from yfinance)\n",
      "  Downloading numpy-1.26.4-cp312-cp312-win_amd64.whl.metadata (61 kB)\n",
      "     ---------------------------------------- 0.0/61.0 kB ? eta -:--:--\n",
      "     ------ --------------------------------- 10.2/61.0 kB ? eta -:--:--\n",
      "     ------------------- ------------------ 30.7/61.0 kB 435.7 kB/s eta 0:00:01\n",
      "     -------------------------------------- 61.0/61.0 kB 466.1 kB/s eta 0:00:00\n",
      "Requirement already satisfied: requests>=2.31 in c:\\users\\alvin\\appdata\\local\\programs\\python\\python312\\lib\\site-packages (from yfinance) (2.32.3)\n",
      "Collecting multitasking>=0.0.7 (from yfinance)\n",
      "  Downloading multitasking-0.0.11-py3-none-any.whl.metadata (5.5 kB)\n",
      "Collecting lxml>=4.9.1 (from yfinance)\n",
      "  Downloading lxml-5.2.2-cp312-cp312-win_amd64.whl.metadata (3.5 kB)\n",
      "Requirement already satisfied: platformdirs>=2.0.0 in c:\\users\\alvin\\appdata\\local\\programs\\python\\python312\\lib\\site-packages (from yfinance) (4.2.2)\n",
      "Collecting pytz>=2022.5 (from yfinance)\n",
      "  Downloading pytz-2024.1-py2.py3-none-any.whl.metadata (22 kB)\n",
      "Collecting frozendict>=2.3.4 (from yfinance)\n",
      "  Downloading frozendict-2.4.4-py312-none-any.whl.metadata (23 kB)\n",
      "Collecting peewee>=3.16.2 (from yfinance)\n",
      "  Downloading peewee-3.17.5.tar.gz (3.0 MB)\n",
      "     ---------------------------------------- 0.0/3.0 MB ? eta -:--:--\n",
      "     - -------------------------------------- 0.1/3.0 MB 1.7 MB/s eta 0:00:02\n",
      "     - -------------------------------------- 0.1/3.0 MB 1.7 MB/s eta 0:00:02\n",
      "     --- ------------------------------------ 0.2/3.0 MB 1.7 MB/s eta 0:00:02\n",
      "     --- ------------------------------------ 0.2/3.0 MB 1.7 MB/s eta 0:00:02\n",
      "     ------ --------------------------------- 0.5/3.0 MB 2.2 MB/s eta 0:00:02\n",
      "     -------- ------------------------------- 0.6/3.0 MB 2.2 MB/s eta 0:00:02\n",
      "     -------------- ------------------------- 1.1/3.0 MB 3.4 MB/s eta 0:00:01\n",
      "     --------------------- ------------------ 1.6/3.0 MB 4.0 MB/s eta 0:00:01\n",
      "     ----------------------------- ---------- 2.2/3.0 MB 5.2 MB/s eta 0:00:01\n",
      "     ---------------------------------------  2.9/3.0 MB 6.1 MB/s eta 0:00:01\n",
      "     ---------------------------------------- 3.0/3.0 MB 5.9 MB/s eta 0:00:00\n",
      "  Installing build dependencies: started\n",
      "  Installing build dependencies: finished with status 'done'\n",
      "  Getting requirements to build wheel: started\n",
      "  Getting requirements to build wheel: finished with status 'done'\n",
      "  Preparing metadata (pyproject.toml): started\n",
      "  Preparing metadata (pyproject.toml): finished with status 'done'\n",
      "Requirement already satisfied: beautifulsoup4>=4.11.1 in c:\\users\\alvin\\appdata\\local\\programs\\python\\python312\\lib\\site-packages (from yfinance) (4.12.3)\n",
      "Collecting html5lib>=1.1 (from yfinance)\n",
      "  Downloading html5lib-1.1-py2.py3-none-any.whl.metadata (16 kB)\n",
      "Requirement already satisfied: soupsieve>1.2 in c:\\users\\alvin\\appdata\\local\\programs\\python\\python312\\lib\\site-packages (from beautifulsoup4>=4.11.1->yfinance) (2.5)\n",
      "Requirement already satisfied: six>=1.9 in c:\\users\\alvin\\appdata\\local\\programs\\python\\python312\\lib\\site-packages (from html5lib>=1.1->yfinance) (1.16.0)\n",
      "Requirement already satisfied: webencodings in c:\\users\\alvin\\appdata\\local\\programs\\python\\python312\\lib\\site-packages (from html5lib>=1.1->yfinance) (0.5.1)\n",
      "Requirement already satisfied: python-dateutil>=2.8.2 in c:\\users\\alvin\\appdata\\local\\programs\\python\\python312\\lib\\site-packages (from pandas>=1.3.0->yfinance) (2.9.0.post0)\n",
      "Collecting tzdata>=2022.7 (from pandas>=1.3.0->yfinance)\n",
      "  Downloading tzdata-2024.1-py2.py3-none-any.whl.metadata (1.4 kB)\n",
      "Requirement already satisfied: charset-normalizer<4,>=2 in c:\\users\\alvin\\appdata\\local\\programs\\python\\python312\\lib\\site-packages (from requests>=2.31->yfinance) (3.3.2)\n",
      "Requirement already satisfied: idna<4,>=2.5 in c:\\users\\alvin\\appdata\\local\\programs\\python\\python312\\lib\\site-packages (from requests>=2.31->yfinance) (3.7)\n",
      "Requirement already satisfied: urllib3<3,>=1.21.1 in c:\\users\\alvin\\appdata\\local\\programs\\python\\python312\\lib\\site-packages (from requests>=2.31->yfinance) (2.2.1)\n",
      "Requirement already satisfied: certifi>=2017.4.17 in c:\\users\\alvin\\appdata\\local\\programs\\python\\python312\\lib\\site-packages (from requests>=2.31->yfinance) (2024.6.2)\n",
      "Downloading yfinance-0.2.40-py2.py3-none-any.whl (73 kB)\n",
      "   ---------------------------------------- 0.0/73.5 kB ? eta -:--:--\n",
      "   ---------------------------------------- 73.5/73.5 kB ? eta 0:00:00\n",
      "Downloading frozendict-2.4.4-py312-none-any.whl (16 kB)\n",
      "Downloading html5lib-1.1-py2.py3-none-any.whl (112 kB)\n",
      "   ---------------------------------------- 0.0/112.2 kB ? eta -:--:--\n",
      "   ---------------------------------------- 112.2/112.2 kB 6.4 MB/s eta 0:00:00\n",
      "Downloading lxml-5.2.2-cp312-cp312-win_amd64.whl (3.8 MB)\n",
      "   ---------------------------------------- 0.0/3.8 MB ? eta -:--:--\n",
      "   ------------------- -------------------- 1.9/3.8 MB 60.1 MB/s eta 0:00:01\n",
      "   -------------------------------- ------- 3.1/3.8 MB 39.1 MB/s eta 0:00:01\n",
      "   ---------------------------------------  3.8/3.8 MB 34.9 MB/s eta 0:00:01\n",
      "   ---------------------------------------- 3.8/3.8 MB 30.5 MB/s eta 0:00:00\n",
      "Downloading multitasking-0.0.11-py3-none-any.whl (8.5 kB)\n",
      "Downloading numpy-1.26.4-cp312-cp312-win_amd64.whl (15.5 MB)\n",
      "   ---------------------------------------- 0.0/15.5 MB ? eta -:--:--\n",
      "   ----- ---------------------------------- 2.2/15.5 MB 46.6 MB/s eta 0:00:01\n",
      "   ---------- ----------------------------- 4.0/15.5 MB 42.2 MB/s eta 0:00:01\n",
      "   ----------- ---------------------------- 4.3/15.5 MB 39.6 MB/s eta 0:00:01\n",
      "   ----------- ---------------------------- 4.3/15.5 MB 39.6 MB/s eta 0:00:01\n",
      "   ----------- ---------------------------- 4.3/15.5 MB 39.6 MB/s eta 0:00:01\n",
      "   ----------- ---------------------------- 4.4/15.5 MB 14.9 MB/s eta 0:00:01\n",
      "   ------------- -------------------------- 5.4/15.5 MB 16.4 MB/s eta 0:00:01\n",
      "   ---------------- ----------------------- 6.4/15.5 MB 16.9 MB/s eta 0:00:01\n",
      "   --------------------- ------------------ 8.4/15.5 MB 20.0 MB/s eta 0:00:01\n",
      "   -------------------------- ------------- 10.4/15.5 MB 21.8 MB/s eta 0:00:01\n",
      "   --------------------------- ------------ 10.6/15.5 MB 21.1 MB/s eta 0:00:01\n",
      "   ------------------------------- -------- 12.4/15.5 MB 19.9 MB/s eta 0:00:01\n",
      "   ------------------------------------- -- 14.7/15.5 MB 32.8 MB/s eta 0:00:01\n",
      "   ---------------------------------------  15.5/15.5 MB 32.8 MB/s eta 0:00:01\n",
      "   ---------------------------------------- 15.5/15.5 MB 27.3 MB/s eta 0:00:00\n",
      "Downloading pandas-2.2.2-cp312-cp312-win_amd64.whl (11.5 MB)\n",
      "   ---------------------------------------- 0.0/11.5 MB ? eta -:--:--\n",
      "   ------ --------------------------------- 1.8/11.5 MB 58.1 MB/s eta 0:00:01\n",
      "   -------------- ------------------------- 4.2/11.5 MB 53.3 MB/s eta 0:00:01\n",
      "   ---------------------- ----------------- 6.4/11.5 MB 51.0 MB/s eta 0:00:01\n",
      "   ---------------------------- ----------- 8.2/11.5 MB 47.7 MB/s eta 0:00:01\n",
      "   ----------------------------------- ---- 10.1/11.5 MB 46.5 MB/s eta 0:00:01\n",
      "   ---------------------------------------  11.5/11.5 MB 46.7 MB/s eta 0:00:01\n",
      "   ---------------------------------------- 11.5/11.5 MB 38.5 MB/s eta 0:00:00\n",
      "Downloading pytz-2024.1-py2.py3-none-any.whl (505 kB)\n",
      "   ---------------------------------------- 0.0/505.5 kB ? eta -:--:--\n",
      "   --------------------------------------- 505.5/505.5 kB 15.5 MB/s eta 0:00:00\n",
      "Downloading tzdata-2024.1-py2.py3-none-any.whl (345 kB)\n",
      "   ---------------------------------------- 0.0/345.4 kB ? eta -:--:--\n",
      "   ---------------------------------------- 345.4/345.4 kB ? eta 0:00:00\n",
      "Building wheels for collected packages: peewee\n",
      "  Building wheel for peewee (pyproject.toml): started\n",
      "  Building wheel for peewee (pyproject.toml): finished with status 'done'\n",
      "  Created wheel for peewee: filename=peewee-3.17.5-py3-none-any.whl size=138681 sha256=040824315c2cf8b4a492db8c720a8dd1c6997ec5535d94e348a98d8a04df99d0\n",
      "  Stored in directory: c:\\users\\alvin\\appdata\\local\\pip\\cache\\wheels\\df\\29\\bd\\2c860b403d4964724adb889d7e1451b2f3e2942603a199279d\n",
      "Successfully built peewee\n",
      "Installing collected packages: pytz, peewee, multitasking, tzdata, numpy, lxml, html5lib, frozendict, pandas, yfinance\n",
      "Successfully installed frozendict-2.4.4 html5lib-1.1 lxml-5.2.2 multitasking-0.0.11 numpy-1.26.4 pandas-2.2.2 peewee-3.17.5 pytz-2024.1 tzdata-2024.1 yfinance-0.2.40\n"
     ]
    }
   ],
   "source": [
    "!pip install yfinance"
   ]
  },
  {
   "cell_type": "code",
   "execution_count": 2,
   "metadata": {},
   "outputs": [
    {
     "name": "stdout",
     "output_type": "stream",
     "text": [
      "Collecting matplotlib\n",
      "  Downloading matplotlib-3.9.0-cp312-cp312-win_amd64.whl.metadata (11 kB)\n",
      "Collecting contourpy>=1.0.1 (from matplotlib)\n",
      "  Downloading contourpy-1.2.1-cp312-cp312-win_amd64.whl.metadata (5.8 kB)\n",
      "Collecting cycler>=0.10 (from matplotlib)\n",
      "  Downloading cycler-0.12.1-py3-none-any.whl.metadata (3.8 kB)\n",
      "Collecting fonttools>=4.22.0 (from matplotlib)\n",
      "  Downloading fonttools-4.53.0-cp312-cp312-win_amd64.whl.metadata (165 kB)\n",
      "     ---------------------------------------- 0.0/165.5 kB ? eta -:--:--\n",
      "     -- ------------------------------------- 10.2/165.5 kB ? eta -:--:--\n",
      "     ------ ------------------------------ 30.7/165.5 kB 435.7 kB/s eta 0:00:01\n",
      "     ------------- ----------------------- 61.4/165.5 kB 544.7 kB/s eta 0:00:01\n",
      "     -------------------------- --------- 122.9/165.5 kB 798.9 kB/s eta 0:00:01\n",
      "     ------------------------------------ 165.5/165.5 kB 902.6 kB/s eta 0:00:00\n",
      "Collecting kiwisolver>=1.3.1 (from matplotlib)\n",
      "  Downloading kiwisolver-1.4.5-cp312-cp312-win_amd64.whl.metadata (6.5 kB)\n",
      "Requirement already satisfied: numpy>=1.23 in c:\\users\\alvin\\appdata\\local\\programs\\python\\python312\\lib\\site-packages (from matplotlib) (1.26.4)\n",
      "Requirement already satisfied: packaging>=20.0 in c:\\users\\alvin\\appdata\\local\\programs\\python\\python312\\lib\\site-packages (from matplotlib) (24.0)\n",
      "Collecting pillow>=8 (from matplotlib)\n",
      "  Downloading pillow-10.3.0-cp312-cp312-win_amd64.whl.metadata (9.4 kB)\n",
      "Collecting pyparsing>=2.3.1 (from matplotlib)\n",
      "  Downloading pyparsing-3.1.2-py3-none-any.whl.metadata (5.1 kB)\n",
      "Requirement already satisfied: python-dateutil>=2.7 in c:\\users\\alvin\\appdata\\local\\programs\\python\\python312\\lib\\site-packages (from matplotlib) (2.9.0.post0)\n",
      "Requirement already satisfied: six>=1.5 in c:\\users\\alvin\\appdata\\local\\programs\\python\\python312\\lib\\site-packages (from python-dateutil>=2.7->matplotlib) (1.16.0)\n",
      "Downloading matplotlib-3.9.0-cp312-cp312-win_amd64.whl (8.0 MB)\n",
      "   ---------------------------------------- 0.0/8.0 MB ? eta -:--:--\n",
      "    --------------------------------------- 0.1/8.0 MB 6.8 MB/s eta 0:00:02\n",
      "    --------------------------------------- 0.1/8.0 MB 6.8 MB/s eta 0:00:02\n",
      "   - -------------------------------------- 0.3/8.0 MB 2.1 MB/s eta 0:00:04\n",
      "   - -------------------------------------- 0.4/8.0 MB 2.4 MB/s eta 0:00:04\n",
      "   -- ------------------------------------- 0.6/8.0 MB 2.6 MB/s eta 0:00:03\n",
      "   --- ------------------------------------ 0.7/8.0 MB 2.7 MB/s eta 0:00:03\n",
      "   ---- ----------------------------------- 0.9/8.0 MB 3.0 MB/s eta 0:00:03\n",
      "   ----- ---------------------------------- 1.1/8.0 MB 3.0 MB/s eta 0:00:03\n",
      "   ------ --------------------------------- 1.3/8.0 MB 3.2 MB/s eta 0:00:03\n",
      "   ------- -------------------------------- 1.5/8.0 MB 3.2 MB/s eta 0:00:03\n",
      "   -------- ------------------------------- 1.7/8.0 MB 3.3 MB/s eta 0:00:02\n",
      "   --------- ------------------------------ 1.9/8.0 MB 3.4 MB/s eta 0:00:02\n",
      "   ---------- ----------------------------- 2.0/8.0 MB 3.4 MB/s eta 0:00:02\n",
      "   ----------- ---------------------------- 2.2/8.0 MB 3.4 MB/s eta 0:00:02\n",
      "   ----------- ---------------------------- 2.4/8.0 MB 3.5 MB/s eta 0:00:02\n",
      "   ------------ --------------------------- 2.5/8.0 MB 3.3 MB/s eta 0:00:02\n",
      "   ------------- -------------------------- 2.8/8.0 MB 3.5 MB/s eta 0:00:02\n",
      "   -------------- ------------------------- 3.0/8.0 MB 3.6 MB/s eta 0:00:02\n",
      "   ---------------- ----------------------- 3.3/8.0 MB 3.7 MB/s eta 0:00:02\n",
      "   ----------------- ---------------------- 3.5/8.0 MB 3.8 MB/s eta 0:00:02\n",
      "   ------------------- -------------------- 3.8/8.0 MB 3.9 MB/s eta 0:00:02\n",
      "   -------------------- ------------------- 4.0/8.0 MB 4.0 MB/s eta 0:00:01\n",
      "   --------------------- ------------------ 4.4/8.0 MB 4.1 MB/s eta 0:00:01\n",
      "   ----------------------- ---------------- 4.6/8.0 MB 4.2 MB/s eta 0:00:01\n",
      "   ------------------------ --------------- 4.9/8.0 MB 4.3 MB/s eta 0:00:01\n",
      "   -------------------------- ------------- 5.3/8.0 MB 4.4 MB/s eta 0:00:01\n",
      "   ---------------------------- ----------- 5.6/8.0 MB 4.5 MB/s eta 0:00:01\n",
      "   ----------------------------- ---------- 6.0/8.0 MB 4.6 MB/s eta 0:00:01\n",
      "   ------------------------------- -------- 6.3/8.0 MB 4.7 MB/s eta 0:00:01\n",
      "   --------------------------------- ------ 6.7/8.0 MB 4.8 MB/s eta 0:00:01\n",
      "   ---------------------------------- ----- 7.0/8.0 MB 4.8 MB/s eta 0:00:01\n",
      "   ------------------------------------- -- 7.4/8.0 MB 5.0 MB/s eta 0:00:01\n",
      "   -------------------------------------- - 7.7/8.0 MB 5.0 MB/s eta 0:00:01\n",
      "   ---------------------------------------  8.0/8.0 MB 5.0 MB/s eta 0:00:01\n",
      "   ---------------------------------------- 8.0/8.0 MB 4.9 MB/s eta 0:00:00\n",
      "Downloading contourpy-1.2.1-cp312-cp312-win_amd64.whl (189 kB)\n",
      "   ---------------------------------------- 0.0/189.9 kB ? eta -:--:--\n",
      "   --------------------------------------- 189.9/189.9 kB 11.2 MB/s eta 0:00:00\n",
      "Downloading cycler-0.12.1-py3-none-any.whl (8.3 kB)\n",
      "Downloading fonttools-4.53.0-cp312-cp312-win_amd64.whl (2.2 MB)\n",
      "   ---------------------------------------- 0.0/2.2 MB ? eta -:--:--\n",
      "   ------ --------------------------------- 0.4/2.2 MB 11.6 MB/s eta 0:00:01\n",
      "   ------------ --------------------------- 0.7/2.2 MB 8.8 MB/s eta 0:00:01\n",
      "   ---------------------- ----------------- 1.2/2.2 MB 9.7 MB/s eta 0:00:01\n",
      "   --------------------------- ------------ 1.5/2.2 MB 8.6 MB/s eta 0:00:01\n",
      "   ----------------------------------- ---- 2.0/2.2 MB 8.9 MB/s eta 0:00:01\n",
      "   ---------------------------------------  2.2/2.2 MB 8.2 MB/s eta 0:00:01\n",
      "   ---------------------------------------- 2.2/2.2 MB 7.8 MB/s eta 0:00:00\n",
      "Downloading kiwisolver-1.4.5-cp312-cp312-win_amd64.whl (56 kB)\n",
      "   ---------------------------------------- 0.0/56.0 kB ? eta -:--:--\n",
      "   ---------------------------------------- 56.0/56.0 kB 2.9 MB/s eta 0:00:00\n",
      "Downloading pillow-10.3.0-cp312-cp312-win_amd64.whl (2.5 MB)\n",
      "   ---------------------------------------- 0.0/2.5 MB ? eta -:--:--\n",
      "   ------- -------------------------------- 0.5/2.5 MB 10.5 MB/s eta 0:00:01\n",
      "   ------------- -------------------------- 0.9/2.5 MB 9.0 MB/s eta 0:00:01\n",
      "   ---------------------- ----------------- 1.4/2.5 MB 10.2 MB/s eta 0:00:01\n",
      "   ------------------------ --------------- 1.5/2.5 MB 10.9 MB/s eta 0:00:01\n",
      "   -------------------------------- ------- 2.0/2.5 MB 8.6 MB/s eta 0:00:01\n",
      "   ---------------------------------------  2.5/2.5 MB 8.8 MB/s eta 0:00:01\n",
      "   ---------------------------------------- 2.5/2.5 MB 8.5 MB/s eta 0:00:00\n",
      "Downloading pyparsing-3.1.2-py3-none-any.whl (103 kB)\n",
      "   ---------------------------------------- 0.0/103.2 kB ? eta -:--:--\n",
      "   ---------------------------------------- 103.2/103.2 kB ? eta 0:00:00\n",
      "Installing collected packages: pyparsing, pillow, kiwisolver, fonttools, cycler, contourpy, matplotlib\n",
      "Successfully installed contourpy-1.2.1 cycler-0.12.1 fonttools-4.53.0 kiwisolver-1.4.5 matplotlib-3.9.0 pillow-10.3.0 pyparsing-3.1.2\n"
     ]
    }
   ],
   "source": [
    "!pip install matplotlib"
   ]
  },
  {
   "cell_type": "code",
   "execution_count": 3,
   "metadata": {},
   "outputs": [],
   "source": [
    "import yfinance"
   ]
  },
  {
   "cell_type": "code",
   "execution_count": 11,
   "metadata": {},
   "outputs": [
    {
     "data": {
      "text/plain": [
       "Date\n",
       "2020-01-02 00:00:00-03:00    11.240595\n",
       "2020-01-03 00:00:00-03:00    11.149061\n",
       "2020-01-06 00:00:00-03:00    11.280871\n",
       "2020-01-07 00:00:00-03:00    11.236933\n",
       "2020-01-08 00:00:00-03:00    11.167370\n",
       "                               ...    \n",
       "2020-12-22 00:00:00-03:00     9.988588\n",
       "2020-12-23 00:00:00-03:00    10.233909\n",
       "2020-12-28 00:00:00-03:00    10.318122\n",
       "2020-12-29 00:00:00-03:00    10.351075\n",
       "2020-12-30 00:00:00-03:00    10.376706\n",
       "Name: Close, Length: 248, dtype: float64"
      ]
     },
     "execution_count": 11,
     "metadata": {},
     "output_type": "execute_result"
    }
   ],
   "source": [
    "# pergunto os inputs que vou colocar nos códigos\n",
    "ação = input(\"Digite o nome da ação: \")\n",
    "data_inicial = input(\"Digite a data inicial da busca: \")\n",
    "data_final = input(\"Digite a data final da busca: \")\n",
    "\n",
    "# defino o código para puxar os dados que preciso\n",
    "dados = yfinance.Ticker(ação)\n",
    "\n",
    "# defino o código para gerar a tabela e solicito a tabela em seguida\n",
    "tabela = dados.history(start=data_inicial, end=data_final)\n",
    "\n",
    "# defino que quero apenas os dados de fechamento, close, da tabela\n",
    "fechamento = tabela.Close\n",
    "fechamento"
   ]
  },
  {
   "cell_type": "code",
   "execution_count": 13,
   "metadata": {},
   "outputs": [
    {
     "data": {
      "text/plain": [
       "<Axes: xlabel='Date'>"
      ]
     },
     "execution_count": 13,
     "metadata": {},
     "output_type": "execute_result"
    },
    {
     "data": {
      "image/png": "[encoded data removed]",
      "text/plain": [
       "<Figure size 640x480 with 1 Axes>"
      ]
     },
     "metadata": {},
     "output_type": "display_data"
    }
   ],
   "source": [
    "# apenas gerando um gráfico para teste, não é para o projeto\n",
    "fechamento.plot()"
   ]
  },
  {
   "cell_type": "markdown",
   "metadata": {},
   "source": [
    "### Criar as análises solicitadas pelo gestor, que são a cotação máxima, mínima e média"
   ]
  },
  {
   "cell_type": "code",
   "execution_count": 17,
   "metadata": {},
   "outputs": [
    {
     "name": "stdout",
     "output_type": "stream",
     "text": [
      "11.28\n",
      "4.13\n",
      "8.17\n"
     ]
    }
   ],
   "source": [
    "# como os dados estão com muitas casas decimais, uso um código para arredondá-los\n",
    "máxima = round(fechamento.max(), 2)\n",
    "mínima = round(fechamento.min(), 2)\n",
    "média = round(fechamento.mean(), 2)\n",
    "\n",
    "# apresento na tela com o print os valores arredondados\n",
    "print(máxima)\n",
    "print(mínima)\n",
    "print(média)"
   ]
  },
  {
   "cell_type": "markdown",
   "metadata": {},
   "source": [
    "### Enviar o email automaticamente para o gestor\n",
    "\n",
    "- abrir o navegador e ir para o gmail\n",
    "- clicar no botão escrever\n",
    "- digitar o email do destinatário e clicar em tab\n",
    "- digitar o assunto do email e clicar em tab\n",
    "- digitar a mensagem e clicar no botão enviar\n",
    "\n",
    "Biblioteca necessárias: 'pyautogui', 'pyperclip', 'webbrowser' e 'time' (a pyper é instalada junto com a pyautogui e a webbrowser e time já vêm insaladas)"
   ]
  },
  {
   "cell_type": "code",
   "execution_count": 18,
   "metadata": {},
   "outputs": [
    {
     "name": "stdout",
     "output_type": "stream",
     "text": [
      "Collecting pyautogui\n",
      "  Downloading PyAutoGUI-0.9.54.tar.gz (61 kB)\n",
      "     ---------------------------------------- 0.0/61.2 kB ? eta -:--:--\n",
      "     ------ --------------------------------- 10.2/61.2 kB ? eta -:--:--\n",
      "     ------------ ------------------------- 20.5/61.2 kB 217.9 kB/s eta 0:00:01\n",
      "     ------------------- ------------------ 30.7/61.2 kB 217.9 kB/s eta 0:00:01\n",
      "     ------------------------------- ------ 51.2/61.2 kB 260.9 kB/s eta 0:00:01\n",
      "     -------------------------------------- 61.2/61.2 kB 271.3 kB/s eta 0:00:00\n",
      "  Installing build dependencies: started\n",
      "  Installing build dependencies: finished with status 'done'\n",
      "  Getting requirements to build wheel: started\n",
      "  Getting requirements to build wheel: finished with status 'done'\n",
      "  Installing backend dependencies: started\n",
      "  Installing backend dependencies: finished with status 'done'\n",
      "  Preparing metadata (pyproject.toml): started\n",
      "  Preparing metadata (pyproject.toml): finished with status 'done'\n",
      "Collecting pymsgbox (from pyautogui)\n",
      "  Downloading PyMsgBox-1.0.9.tar.gz (18 kB)\n",
      "  Installing build dependencies: started\n",
      "  Installing build dependencies: finished with status 'done'\n",
      "  Getting requirements to build wheel: started\n",
      "  Getting requirements to build wheel: finished with status 'done'\n",
      "  Installing backend dependencies: started\n",
      "  Installing backend dependencies: finished with status 'done'\n",
      "  Preparing metadata (pyproject.toml): started\n",
      "  Preparing metadata (pyproject.toml): finished with status 'done'\n",
      "Collecting pytweening>=1.0.4 (from pyautogui)\n",
      "  Downloading pytweening-1.2.0.tar.gz (171 kB)\n",
      "     ---------------------------------------- 0.0/171.2 kB ? eta -:--:--\n",
      "     ------------- ------------------------- 61.4/171.2 kB 3.4 MB/s eta 0:00:01\n",
      "     ------------------------ ------------- 112.6/171.2 kB 1.3 MB/s eta 0:00:01\n",
      "     -------------------------------------- 171.2/171.2 kB 1.5 MB/s eta 0:00:00\n",
      "  Installing build dependencies: started\n",
      "  Installing build dependencies: finished with status 'done'\n",
      "  Getting requirements to build wheel: started\n",
      "  Getting requirements to build wheel: finished with status 'done'\n",
      "  Installing backend dependencies: started\n",
      "  Installing backend dependencies: finished with status 'done'\n",
      "  Preparing metadata (pyproject.toml): started\n",
      "  Preparing metadata (pyproject.toml): finished with status 'done'\n",
      "Collecting pyscreeze>=0.1.21 (from pyautogui)\n",
      "  Downloading PyScreeze-0.1.30.tar.gz (27 kB)\n",
      "  Installing build dependencies: started\n",
      "  Installing build dependencies: finished with status 'done'\n",
      "  Getting requirements to build wheel: started\n",
      "  Getting requirements to build wheel: finished with status 'done'\n",
      "  Preparing metadata (pyproject.toml): started\n",
      "  Preparing metadata (pyproject.toml): finished with status 'done'\n",
      "Collecting pygetwindow>=0.0.5 (from pyautogui)\n",
      "  Downloading PyGetWindow-0.0.9.tar.gz (9.7 kB)\n",
      "  Installing build dependencies: started\n",
      "  Installing build dependencies: finished with status 'done'\n",
      "  Getting requirements to build wheel: started\n",
      "  Getting requirements to build wheel: finished with status 'done'\n",
      "  Installing backend dependencies: started\n",
      "  Installing backend dependencies: finished with status 'done'\n",
      "  Preparing metadata (pyproject.toml): started\n",
      "  Preparing metadata (pyproject.toml): finished with status 'done'\n",
      "Collecting mouseinfo (from pyautogui)\n",
      "  Downloading MouseInfo-0.1.3.tar.gz (10 kB)\n",
      "  Installing build dependencies: started\n",
      "  Installing build dependencies: finished with status 'done'\n",
      "  Getting requirements to build wheel: started\n",
      "  Getting requirements to build wheel: finished with status 'done'\n",
      "  Installing backend dependencies: started\n",
      "  Installing backend dependencies: finished with status 'done'\n",
      "  Preparing metadata (pyproject.toml): started\n",
      "  Preparing metadata (pyproject.toml): finished with status 'done'\n",
      "Collecting pyrect (from pygetwindow>=0.0.5->pyautogui)\n",
      "  Downloading PyRect-0.2.0.tar.gz (17 kB)\n",
      "  Installing build dependencies: started\n",
      "  Installing build dependencies: finished with status 'done'\n",
      "  Getting requirements to build wheel: started\n",
      "  Getting requirements to build wheel: finished with status 'done'\n",
      "  Installing backend dependencies: started\n",
      "  Installing backend dependencies: finished with status 'done'\n",
      "  Preparing metadata (pyproject.toml): started\n",
      "  Preparing metadata (pyproject.toml): finished with status 'done'\n",
      "Collecting pyperclip (from mouseinfo->pyautogui)\n",
      "  Downloading pyperclip-1.8.2.tar.gz (20 kB)\n",
      "  Installing build dependencies: started\n",
      "  Installing build dependencies: finished with status 'done'\n",
      "  Getting requirements to build wheel: started\n",
      "  Getting requirements to build wheel: finished with status 'done'\n",
      "  Installing backend dependencies: started\n",
      "  Installing backend dependencies: finished with status 'done'\n",
      "  Preparing metadata (pyproject.toml): started\n",
      "  Preparing metadata (pyproject.toml): finished with status 'done'\n",
      "Building wheels for collected packages: pyautogui, pygetwindow, pyscreeze, pytweening, mouseinfo, pymsgbox, pyperclip, pyrect\n",
      "  Building wheel for pyautogui (pyproject.toml): started\n",
      "  Building wheel for pyautogui (pyproject.toml): finished with status 'done'\n",
      "  Created wheel for pyautogui: filename=PyAutoGUI-0.9.54-py3-none-any.whl size=37596 sha256=efbecd57d6176a3af9ea693772f1900285c8e14162d33f992194a92f2658402e\n",
      "  Stored in directory: c:\\users\\alvin\\appdata\\local\\pip\\cache\\wheels\\d9\\d6\\47\\04075995b093ecc87c212c9a3dbd34e59456c6fe504d65c3e4\n",
      "  Building wheel for pygetwindow (pyproject.toml): started\n",
      "  Building wheel for pygetwindow (pyproject.toml): finished with status 'done'\n",
      "  Created wheel for pygetwindow: filename=PyGetWindow-0.0.9-py3-none-any.whl size=11080 sha256=3068c57a825a8c184ce1635f161dba6ff10b8df0238918916ba0a4781135402d\n",
      "  Stored in directory: c:\\users\\alvin\\appdata\\local\\pip\\cache\\wheels\\b3\\39\\81\\34dd7a2eca5f885f1f6e2796761970daf66a2d98ac1904f5f4\n",
      "  Building wheel for pyscreeze (pyproject.toml): started\n",
      "  Building wheel for pyscreeze (pyproject.toml): finished with status 'done'\n",
      "  Created wheel for pyscreeze: filename=PyScreeze-0.1.30-py3-none-any.whl size=14401 sha256=cb784eb1fbb73138fc1a7a6001389dd58ed0e5a2033956a6032b9e8fb2e47643\n",
      "  Stored in directory: c:\\users\\alvin\\appdata\\local\\pip\\cache\\wheels\\9c\\02\\ab\\4e0b66866966de3adef00e6de37147b6ba529f6a682c64b7cf\n",
      "  Building wheel for pytweening (pyproject.toml): started\n",
      "  Building wheel for pytweening (pyproject.toml): finished with status 'done'\n",
      "  Created wheel for pytweening: filename=pytweening-1.2.0-py3-none-any.whl size=8031 sha256=0cf28e6fcc2bed074f175629c894a4b2bdbf8448037c6b2c3bfec0d04be62c24\n",
      "  Stored in directory: c:\\users\\alvin\\appdata\\local\\pip\\cache\\wheels\\23\\d5\\13\\4e9bdadbfe3c78e47c675e7410c0eed2fbb63c5ea6cf1b40e7\n",
      "  Building wheel for mouseinfo (pyproject.toml): started\n",
      "  Building wheel for mouseinfo (pyproject.toml): finished with status 'done'\n",
      "  Created wheel for mouseinfo: filename=MouseInfo-0.1.3-py3-none-any.whl size=10903 sha256=c61dce2604c39fcec673b163792411fc52d2db26aae4d7a3673a3e1fc3758f63\n",
      "  Stored in directory: c:\\users\\alvin\\appdata\\local\\pip\\cache\\wheels\\b1\\9b\\f3\\08650eb7f00af32f07789f3c6a101e0d7fc762b9891ae843bb\n",
      "  Building wheel for pymsgbox (pyproject.toml): started\n",
      "  Building wheel for pymsgbox (pyproject.toml): finished with status 'done'\n",
      "  Created wheel for pymsgbox: filename=PyMsgBox-1.0.9-py3-none-any.whl size=7417 sha256=6e90a260c1d2ee740915f3ec7f0483c64fdb9127d6ebb3058d6e90f1fc55bef3\n",
      "  Stored in directory: c:\\users\\alvin\\appdata\\local\\pip\\cache\\wheels\\55\\e7\\aa\\239163543708d1e15c3d9a1b89dbfe3954b0929a6df2951b83\n",
      "  Building wheel for pyperclip (pyproject.toml): started\n",
      "  Building wheel for pyperclip (pyproject.toml): finished with status 'done'\n",
      "  Created wheel for pyperclip: filename=pyperclip-1.8.2-py3-none-any.whl size=11136 sha256=8fb719825790056f6fd7b8223e5b2b77e2fade205ae4eb5cbc7561404f50a2d7\n",
      "  Stored in directory: c:\\users\\alvin\\appdata\\local\\pip\\cache\\wheels\\b7\\e1\\45\\ce0a91b8cdfed625867580ed90242e4581c4995f69fd062e07\n",
      "  Building wheel for pyrect (pyproject.toml): started\n",
      "  Building wheel for pyrect (pyproject.toml): finished with status 'done'\n",
      "  Created wheel for pyrect: filename=PyRect-0.2.0-py2.py3-none-any.whl size=11205 sha256=6915ba2940b2aa8acae3ba8b2981008079edba464f8a0ec5e4e217dcb9665be5\n",
      "  Stored in directory: c:\\users\\alvin\\appdata\\local\\pip\\cache\\wheels\\0b\\1e\\d7\\0c74bd8f60b39c14d84e307398786002aa7ddc905927cc03c5\n",
      "Successfully built pyautogui pygetwindow pyscreeze pytweening mouseinfo pymsgbox pyperclip pyrect\n",
      "Installing collected packages: pytweening, pyscreeze, pyrect, pyperclip, pymsgbox, pygetwindow, mouseinfo, pyautogui\n",
      "Successfully installed mouseinfo-0.1.3 pyautogui-0.9.54 pygetwindow-0.0.9 pymsgbox-1.0.9 pyperclip-1.8.2 pyrect-0.2.0 pyscreeze-0.1.30 pytweening-1.2.0\n"
     ]
    }
   ],
   "source": [
    "!pip install pyautogui"
   ]
  },
  {
   "cell_type": "code",
   "execution_count": 20,
   "metadata": {},
   "outputs": [],
   "source": [
    "import pyautogui\n",
    "import pyperclip\n",
    "import webbrowser\n",
    "import time"
   ]
  },
  {
   "cell_type": "code",
   "execution_count": 21,
   "metadata": {},
   "outputs": [
    {
     "name": "stdout",
     "output_type": "stream",
     "text": [
      "Point(x=67, y=208)\n"
     ]
    }
   ],
   "source": [
    "# descobrindo a posição do mouse para o botão escrever do gmail\n",
    "\n",
    "# com o gmail aberto no navegador, seguir com os códigos abaixo\n",
    "time.sleep(5)\n",
    "print(pyautogui.position())"
   ]
  },
  {
   "cell_type": "code",
   "execution_count": 35,
   "metadata": {},
   "outputs": [
    {
     "name": "stdout",
     "output_type": "stream",
     "text": [
      "Point(x=843, y=692)\n"
     ]
    }
   ],
   "source": [
    "# descobrindo a posição do mouse para o botão escrever do gmail\n",
    "time.sleep(5)\n",
    "print(pyautogui.position())"
   ]
  },
  {
   "cell_type": "code",
   "execution_count": 42,
   "metadata": {},
   "outputs": [],
   "source": [
    "# definindo variáveis para a preparação do email\n",
    "destinatário = \"alvinopf@gmail.com\"\n",
    "assunto = \"Análises do Projeto 2\"\n",
    "mensagem = f\"\"\"\n",
    "Bom dia,\n",
    "\n",
    "Segue abaixo as análises da ação {ação} no período solicitado {data_inicial} à {data_final}:\n",
    "\n",
    "Cotação máxima: R${máxima}\n",
    "Cotação mínima: R${mínima}\n",
    "Cotação média: R${média}\n",
    "\n",
    "Obrigado pela atenção e sigo à disposição.\n",
    "\n",
    "Atenciosamente,\n",
    "\"\"\""
   ]
  },
  {
   "cell_type": "code",
   "execution_count": 41,
   "metadata": {},
   "outputs": [
    {
     "name": "stdout",
     "output_type": "stream",
     "text": [
      "Email enviado com sucesso.\n"
     ]
    }
   ],
   "source": [
    "# passo - abrir o navegador e ir para o gmail\n",
    "webbrowser.open(\"www.gmail.com\")\n",
    "time.sleep(5)\n",
    "\n",
    "# definindo uma pausa de 3 segundos entre as ações\n",
    "pyautogui.PAUSE = 3\n",
    "\n",
    "# passo - clicar no botão escrever\n",
    "pyautogui.click(x=67, y=208)\n",
    "\n",
    "#passo - digitar o email do destinatário e clicar em tab\n",
    "pyperclip.copy(destinatário)\n",
    "pyautogui.hotkey(\"ctrl\", \"v\")\n",
    "pyautogui.hotkey(\"tab\")\n",
    "\n",
    "#passo - digitar o assunto do email e clicar em tab\n",
    "pyperclip.copy(assunto)\n",
    "pyautogui.hotkey(\"ctrl\", \"v\")\n",
    "pyautogui.hotkey(\"tab\")\n",
    "\n",
    "#passo - digitar a mensagem do email e clicar em enviar\n",
    "pyperclip.copy(mensagem)\n",
    "pyautogui.hotkey(\"ctrl\", \"v\")\n",
    "pyautogui.click(x=843, y=692)\n",
    "\n",
    "# passo - fechar a aba\n",
    "pyautogui.hotkey(\"ctrl\", \"f4\")\n",
    "\n",
    "print(\"Email enviado com sucesso.\")"
   ]
  }
 ],
 "metadata": {
  "kernelspec": {
   "display_name": "Python 3",
   "language": "python",
   "name": "python3"
  },
  "language_info": {
   "codemirror_mode": {
    "name": "ipython",
    "version": 3
   },
   "file_extension": ".py",
   "mimetype": "text/x-python",
   "name": "python",
   "nbconvert_exporter": "python",
   "pygments_lexer": "ipython3",
   "version": "3.12.3"
  }
 },
 "nbformat": 4,
 "nbformat_minor": 2
}
